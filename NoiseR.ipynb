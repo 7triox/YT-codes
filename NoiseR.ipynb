{
  "nbformat": 4,
  "nbformat_minor": 0,
  "metadata": {
    "colab": {
      "provenance": [],
      "authorship_tag": "ABX9TyOLAMm3F14G2ZdGsXylno+z",
      "include_colab_link": true
    },
    "kernelspec": {
      "name": "python3",
      "display_name": "Python 3"
    },
    "language_info": {
      "name": "python"
    }
  },
  "cells": [
    {
      "cell_type": "markdown",
      "metadata": {
        "id": "view-in-github",
        "colab_type": "text"
      },
      "source": [
        "<a href=\"https://colab.research.google.com/github/7triox/colab-kaggle/blob/Colab/NoiseR.ipynb\" target=\"_parent\"><img src=\"https://colab.research.google.com/assets/colab-badge.svg\" alt=\"Open In Colab\"/></a>"
      ]
    },
    {
      "cell_type": "code",
      "source": [
        "\n",
        "#@title Step 1 : Installing\n",
        "\n",
        "# Install the required packages\n",
        "!pip install pydub\n",
        "!apt-get install -y ffmpeg\n",
        "\n",
        "# Import necessary libraries\n",
        "import os\n",
        "\n",
        "# Create directories\n",
        "os.makedirs('audio_input', exist_ok=True)\n",
        "os.makedirs('audio_output', exist_ok=True)"
      ],
      "metadata": {
        "id": "VhUmv-lpzakQ"
      },
      "execution_count": null,
      "outputs": []
    },
    {
      "cell_type": "code",
      "source": [
        "#@title Step 2 & 3 : Upload Files, Remove Silence, and Download with Unique Filename\n",
        "\n",
        "import shutil\n",
        "import os\n",
        "from google.colab import files\n",
        "from pydub import AudioSegment\n",
        "from pydub.silence import split_on_silence\n",
        "from datetime import datetime\n",
        "\n",
        "# Step 2: Upload Files\n",
        "def clear_directory(directory):\n",
        "    if os.path.exists(directory):\n",
        "        shutil.rmtree(directory)\n",
        "    os.makedirs(directory)\n",
        "\n",
        "# Clear and prepare directories\n",
        "input_directory = 'audio_input'\n",
        "output_directory = 'audio_output'\n",
        "clear_directory(input_directory)\n",
        "clear_directory(output_directory)\n",
        "\n",
        "# Upload audio files\n",
        "print(\"Upload your audio files:\")\n",
        "uploaded = files.upload()\n",
        "for filename in uploaded.keys():\n",
        "    with open(os.path.join(input_directory, filename), 'wb') as f:\n",
        "        f.write(uploaded[filename])\n",
        "    print(f\"Uploaded: {filename}\")\n",
        "\n",
        "# Step 3: Process Files (Remove Silence) and Download\n",
        "def remove_silence(input_path, output_path, format):\n",
        "    # Load the audio file\n",
        "    audio = AudioSegment.from_file(input_path, format=format)\n",
        "\n",
        "    # Split audio on silences longer than 500ms\n",
        "    chunks = split_on_silence(\n",
        "        audio,\n",
        "        min_silence_len=500,  # Silence threshold in milliseconds\n",
        "        silence_thresh=-70,   # dB threshold for silence detection\n",
        "        keep_silence=100      # Keep 100ms of silence between chunks for natural pacing\n",
        "    )\n",
        "\n",
        "    # Combine the chunks back together\n",
        "    output_audio = AudioSegment.empty()\n",
        "    for chunk in chunks:\n",
        "        output_audio += chunk\n",
        "\n",
        "    # Export the processed audio file\n",
        "    output_audio.export(output_path, format=format)\n",
        "\n",
        "# Process each uploaded file\n",
        "for filename in os.listdir(input_directory):\n",
        "    if filename.endswith('.mp3') or filename.endswith('.wav'):\n",
        "        input_path = os.path.join(input_directory, filename)\n",
        "        output_format = filename.split('.')[-1]\n",
        "        # Generate a unique filename with timestamp\n",
        "        timestamp = datetime.now().strftime(\"%Y%m%d_%H%M%S\")  # e.g., 20250223_154532\n",
        "        base_name = os.path.splitext(filename)[0]\n",
        "        output_filename = f\"{base_name}_cut_{timestamp}.{output_format}\"\n",
        "        output_path = os.path.join(output_directory, output_filename)\n",
        "\n",
        "        # Remove silence and save\n",
        "        remove_silence(input_path, output_path, output_format)\n",
        "        print(f\"Processed: {output_filename}\")\n",
        "\n",
        "        # Automatically download the processed file\n",
        "        print(f\"Downloading: {output_filename}\")\n",
        "        files.download(output_path)\n",
        "\n",
        "print(\"Done Uploading, Processing, and Downloading\")"
      ],
      "metadata": {
        "id": "WD2JDQgrziKc"
      },
      "execution_count": null,
      "outputs": []
    }
  ]
}